{
  "nbformat": 4,
  "nbformat_minor": 0,
  "metadata": {
    "colab": {
      "provenance": [],
      "collapsed_sections": [],
      "authorship_tag": "ABX9TyO+fZpzvV1366ki3VXXF4gW",
      "include_colab_link": true
    },
    "kernelspec": {
      "name": "python3",
      "display_name": "Python 3"
    },
    "language_info": {
      "name": "python"
    }
  },
  "cells": [
    {
      "cell_type": "markdown",
      "metadata": {
        "id": "view-in-github",
        "colab_type": "text"
      },
      "source": [
        "<a href=\"https://colab.research.google.com/github/Srchenko/red-neuronal-conversor-distancia-km-milla/blob/main/Conversor_de_distancia_red_neuronal.ipynb\" target=\"_parent\"><img src=\"https://colab.research.google.com/assets/colab-badge.svg\" alt=\"Open In Colab\"/></a>"
      ]
    },
    {
      "cell_type": "code",
      "execution_count": 1,
      "metadata": {
        "id": "qSWEZL1Y0ig7"
      },
      "outputs": [],
      "source": [
        "import tensorflow as tf\n",
        "import numpy as np\n"
      ]
    },
    {
      "cell_type": "code",
      "source": [
        "km = np.array([1, 50, 100, 200.5, 635.27, 1024.652, 1578.963], dtype=float)\n",
        "milla = np.array([0.621371, 31.0686, 62.1371, 124.58492, 394.738477, 636.68923487, 981.12212181], dtype=float)"
      ],
      "metadata": {
        "id": "3_LyorRM1BIk"
      },
      "execution_count": 17,
      "outputs": []
    },
    {
      "cell_type": "code",
      "source": [
        "#capa = tf.keras.layers.Dense(units=1, input_shape=[1])\n",
        "#modelo = tf.keras.Sequential([capa])\n",
        "\n",
        "oculta1 = tf.keras.layers.Dense(units=3, input_shape=[1])\n",
        "oculta2 = tf.keras.layers.Dense(units=3)\n",
        "salida = tf.keras.layers.Dense(units = 1)\n",
        "modelo = tf.keras.Sequential([oculta1, oculta2, salida])"
      ],
      "metadata": {
        "id": "gQ1OUVYT1q2a"
      },
      "execution_count": 18,
      "outputs": []
    },
    {
      "cell_type": "code",
      "source": [
        "modelo.compile(\n",
        "    optimizer = tf.keras.optimizers.Adam(0.1),\n",
        "    loss = 'mean_squared_error'\n",
        ")"
      ],
      "metadata": {
        "id": "ACfSFWIx2MDl"
      },
      "execution_count": 19,
      "outputs": []
    },
    {
      "cell_type": "code",
      "source": [
        "print(\"Comenzando entrenamiento...\")\n",
        "historial = modelo.fit(km,milla, epochs = 1000, verbose = False)\n",
        "print(\"Modelo entrenado!\")"
      ],
      "metadata": {
        "colab": {
          "base_uri": "https://localhost:8080/"
        },
        "id": "VSJZ-1a42fjx",
        "outputId": "0ebe8df5-0e50-4745-9b8b-c9cb7ac8cc37"
      },
      "execution_count": 20,
      "outputs": [
        {
          "output_type": "stream",
          "name": "stdout",
          "text": [
            "Comenzando entrenamiento...\n",
            "Modelo entrenado!\n"
          ]
        }
      ]
    },
    {
      "cell_type": "code",
      "source": [
        "import matplotlib.pyplot as plt\n",
        "plt.xlabel(\"# Epoca\")\n",
        "plt.ylabel(\"Magnit de pérdida\")\n",
        "plt.plot(historial.history[\"loss\"])"
      ],
      "metadata": {
        "colab": {
          "base_uri": "https://localhost:8080/",
          "height": 296
        },
        "id": "ZQbPwkMo2ulh",
        "outputId": "1490450c-0609-416f-868f-1f9490b4b712"
      },
      "execution_count": 21,
      "outputs": [
        {
          "output_type": "execute_result",
          "data": {
            "text/plain": [
              "[<matplotlib.lines.Line2D at 0x7f2d5220a9d0>]"
            ]
          },
          "metadata": {},
          "execution_count": 21
        },
        {
          "output_type": "display_data",
          "data": {
            "text/plain": [
              "<Figure size 432x288 with 1 Axes>"
            ],
            "image/png": "[encoded data removed]"
          },
          "metadata": {
            "needs_background": "light"
          }
        }
      ]
    },
    {
      "cell_type": "code",
      "source": [
        "print(\"Predicción:\")\n",
        "resultado = modelo.predict([512.23])\n",
        "print(\"Resultado \" + str(resultado) + \"F\")"
      ],
      "metadata": {
        "colab": {
          "base_uri": "https://localhost:8080/"
        },
        "id": "lEMAuCdJ3CqF",
        "outputId": "2974e920-9ffa-45f6-ea4d-a126c17a3fed"
      },
      "execution_count": 24,
      "outputs": [
        {
          "output_type": "stream",
          "name": "stdout",
          "text": [
            "Predicción:\n",
            "Resultado [[318.28485]]F\n"
          ]
        }
      ]
    },
    {
      "cell_type": "code",
      "source": [
        "print(\"Variables del modelo\")\n",
        "#print(capa.get_weights())\n",
        "print(oculta1.get_weights())\n",
        "print(oculta2.get_weights())\n",
        "print(salida.get_weights())"
      ],
      "metadata": {
        "colab": {
          "base_uri": "https://localhost:8080/"
        },
        "id": "DGGtAt9q3ckh",
        "outputId": "65297d5c-5b29-4861-bd4a-246a85905124"
      },
      "execution_count": 25,
      "outputs": [
        {
          "output_type": "stream",
          "name": "stdout",
          "text": [
            "Variables del modelo\n",
            "[array([[-0.3093065 ,  0.45781493, -0.08185724]], dtype=float32), array([ 0.67756355, -0.08207114, -0.180421  ], dtype=float32)]\n",
            "[array([[-0.5119721 , -0.26338193,  0.5912776 ],\n",
            "       [ 0.8941974 ,  0.25198653,  0.43708932],\n",
            "       [ 0.2545324 ,  0.17977867,  0.8867916 ]], dtype=float32), array([0.21714652, 0.4700529 , 0.1672646 ], dtype=float32)]\n",
            "[array([[ 1.0651776 ],\n",
            "       [ 0.14138481],\n",
            "       [-0.2362226 ]], dtype=float32), array([0.31945825], dtype=float32)]\n"
          ]
        }
      ]
    }
  ]
}